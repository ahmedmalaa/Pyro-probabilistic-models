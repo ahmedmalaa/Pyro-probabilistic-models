{
 "cells": [
  {
   "cell_type": "markdown",
   "metadata": {},
   "source": [
    "# Introduction to Probabilistic Modeling in Pyro"
   ]
  },
  {
   "cell_type": "markdown",
   "metadata": {},
   "source": [
    "**Pyro** is a [universal probabilistic programming language (PPL)](https://pyro.ai/) in Python with a PyTorch backend. It enables flexible implementation for deep probabilistic models, which unifies the strengths of deep learning and probabilistic models. As stated in its [website](https://pyro.ai/), Pyro was designed based on the following principles:  \n",
    "\n",
    "- **Universal**: Pyro can represent *any* computable probability distribution.\n",
    "- **Scalable**: Pyro scales to *large data sets* with little overhead.\n",
    "- **Minimal**: Pyro is implemented with a small core of powerful, composable abstractions.\n",
    "- **Flexible**: Pyro aims for automation and control. "
   ]
  },
  {
   "cell_type": "markdown",
   "metadata": {},
   "source": [
    "In this tutorial, we will explore the basic building blocks of Pyro. The following tutorial is an adaptation for the documentation and the examples published in Pyro's [official website](https://pyro.ai/examples/intro_part_i.html). Before we start, we need to import both pyro and torch libraries."
   ]
  },
  {
   "cell_type": "code",
   "execution_count": 2,
   "metadata": {
    "collapsed": true
   },
   "outputs": [],
   "source": [
    "import torch\n",
    "import pyro"
   ]
  },
  {
   "cell_type": "markdown",
   "metadata": {},
   "source": [
    "## Stochastic Functions"
   ]
  },
  {
   "cell_type": "markdown",
   "metadata": {},
   "source": [
    "The basic unit of a probabilistic program is the *stochastic function*. This is a Python callable that combines two ingredients:\n",
    "\n",
    "- **Deterministic Python code** and\n",
    "- **primitive stochastic functions** that call a random number generator. \n",
    "\n",
    "More concretely, a stochastic function can be *any Python object* with a __call__() method, like a function, a method, or a PyTorch nn.Module. Throughout the tutorials, we will often call *stochastic functions models*, since stochastic functions can be used to represent simplified or abstract descriptions of a process by which data are generated. Expressing models as stochastic functions means that models can be composed, reused, imported, and serialized just like regular Python callables."
   ]
  },
  {
   "cell_type": "markdown",
   "metadata": {},
   "source": [
    "### Primitive Stochastic Functions\n",
    "\n",
    "Primitive stochastic functions (or distributions) are an important class of **stochastic functions** for which we can explicitly compute the *probability of the outputs given the inputs*. We start with an example for using primitive stochastic functions to draw a sample $x$ from the unit normal distribution $\\mathcal{N}(0,1)$ as follows:"
   ]
  },
  {
   "cell_type": "code",
   "execution_count": 9,
   "metadata": {
    "collapsed": false
   },
   "outputs": [
    {
     "name": "stdout",
     "output_type": "stream",
     "text": [
      "sample tensor(0.0462)\n",
      "log prob tensor(-0.9200)\n"
     ]
    }
   ],
   "source": [
    "mean     = 0.   # zero mean \n",
    "variance = 1.   # unit variance\n",
    "normal   = torch.distributions.Normal(mean, variance) # create a normal distribution object\n",
    "\n",
    "# Note: we could use the wrapper: pyro.distributions.Normal(mean, variance) instead\n",
    "\n",
    "x = normal.rsample() # draw a sample from N(0,1)\n",
    "\n",
    "print(\"sample\", x)\n",
    "print(\"log prob\", normal.log_prob(x))"
   ]
  },
  {
   "cell_type": "markdown",
   "metadata": {},
   "source": [
    "Let us plot the histogram to check if the generated data is indeed Gaussian:"
   ]
  },
  {
   "cell_type": "code",
   "execution_count": null,
   "metadata": {
    "collapsed": false
   },
   "outputs": [],
   "source": [
    "import seaborn as sns\n",
    "%matplotlib inline \n",
    "\n",
    "import numpy as np\n",
    "\n",
    "data_points = [normal.rsample().numpy() for k in range(1000)]\n",
    "\n",
    "sns.distplot(data_points)"
   ]
  },
  {
   "cell_type": "markdown",
   "metadata": {},
   "source": [
    "Here, **torch.distributions.Normal** is an instance of **Distribution class** that takes parameters and provides sample and score methods. Pyro's distribution library **pyro.distributions** is a thin wrapper around **torch.distributions** meant to make use of PyTorch's fast tensor math and autograd capabilities."
   ]
  },
  {
   "cell_type": "markdown",
   "metadata": {},
   "source": [
    "### Building a Simple Model\n",
    "\n",
    "\n"
   ]
  },
  {
   "cell_type": "markdown",
   "metadata": {},
   "source": [
    "A probabilistic program is built up by composing primitive stochastic functions and deterministic computation. Since we are ultimately interested in probabilistic programming because we want to model things in the real world, let's start with a model of something concrete."
   ]
  },
  {
   "cell_type": "markdown",
   "metadata": {},
   "source": [
    "Let's suppose we have a bunch of data with daily mean temperatures and cloud cover. We want to reason about how temperature interacts with whether it was sunny or cloudy. A simple stochastic function that describes how that data might have been generated is given by:"
   ]
  },
  {
   "cell_type": "code",
   "execution_count": 39,
   "metadata": {
    "collapsed": true
   },
   "outputs": [],
   "source": [
    "def weather():\n",
    "    \n",
    "    cloudy     = torch.distributions.Bernoulli(0.3).sample()\n",
    "    cloudy     = 'cloudy' if cloudy.item() == 1.0 else 'sunny'\n",
    "    \n",
    "    mean_temp  = {'cloudy': 55.0, 'sunny': 75.0}[cloudy]\n",
    "    var_temp   = {'cloudy': 10.0, 'sunny': 15.0}[cloudy]\n",
    "    temp       = torch.distributions.Normal(mean_temp, var_temp).rsample()\n",
    "    \n",
    "    return cloudy, temp.item()"
   ]
  },
  {
   "cell_type": "code",
   "execution_count": 43,
   "metadata": {
    "collapsed": false
   },
   "outputs": [
    {
     "data": {
      "text/plain": [
       "('sunny', 95.69055938720703)"
      ]
     },
     "execution_count": 43,
     "metadata": {},
     "output_type": "execute_result"
    }
   ],
   "source": [
    "weather()"
   ]
  },
  {
   "cell_type": "markdown",
   "metadata": {},
   "source": [
    "As we can see, **weather** is entirely independent of Pyro - it only calls PyTorch. We need to turn it into a Pyro program if we want to use this model for anything other than sampling fake data."
   ]
  },
  {
   "cell_type": "markdown",
   "metadata": {},
   "source": [
    "### The pyro.sample Primitive"
   ]
  },
  {
   "cell_type": "markdown",
   "metadata": {},
   "source": [
    "To turn **weather** into a Pyro program, we'll replace the **torch.distributions** with **pyro.distributions** and the **.sample()** and **.rsample()** calls with calls to **pyro.sample**, one of the core language primitives in Pyro. Using **pyro.sample** is as simple as calling a primitive stochastic function with one important difference:"
   ]
  },
  {
   "cell_type": "code",
   "execution_count": 45,
   "metadata": {
    "collapsed": false
   },
   "outputs": [
    {
     "data": {
      "text/plain": [
       "tensor(-0.2579)"
      ]
     },
     "execution_count": 45,
     "metadata": {},
     "output_type": "execute_result"
    }
   ],
   "source": [
    "x = pyro.sample(\"my_sample\", pyro.distributions.Normal(mean, variance))\n",
    "x"
   ]
  },
  {
   "cell_type": "markdown",
   "metadata": {},
   "source": [
    "Just like a direct call to **torch.distributions.Normal().rsample()**, this returns a sample from the unit normal distribution.** The crucial difference is that this sample is named.** Pyro's backend uses these names to uniquely identify sample statements and change their behavior at runtime depending on how the enclosing stochastic function is being used. *As we will see, this is how Pyro can implement the various manipulations that underlie inference algorithms.*"
   ]
  },
  {
   "cell_type": "markdown",
   "metadata": {},
   "source": [
    "Now that we've introduced **pyro.sample** and **pyro.distributions** we can rewrite our simple model as a Pyro program:"
   ]
  },
  {
   "cell_type": "code",
   "execution_count": 48,
   "metadata": {
    "collapsed": false
   },
   "outputs": [
    {
     "name": "stdout",
     "output_type": "stream",
     "text": [
      "('cloudy', 58.179054260253906)\n",
      "('sunny', 85.4627456665039)\n",
      "('sunny', 59.515235900878906)\n"
     ]
    }
   ],
   "source": [
    "def weather():\n",
    "    \n",
    "    cloudy  = pyro.sample('cloudy', pyro.distributions.Bernoulli(0.3))\n",
    "    cloudy  = 'cloudy' if cloudy.item() == 1.0 else 'sunny'\n",
    "    \n",
    "    mean_temp     = {'cloudy': 55.0, 'sunny': 75.0}[cloudy]\n",
    "    variance_temp = {'cloudy': 10.0, 'sunny': 15.0}[cloudy]\n",
    "    \n",
    "    temp = pyro.sample('temp', pyro.distributions.Normal(mean_temp, variance_temp))\n",
    "    \n",
    "    return cloudy, temp.item()\n",
    "\n",
    "for _ in range(3):\n",
    "    \n",
    "    print(weather())"
   ]
  },
  {
   "cell_type": "markdown",
   "metadata": {},
   "source": [
    "Here, **weather()** is still a non-deterministic Python callable that returns two random samples. Because the randomness is now invoked with **pyro.sample**, however, it is much more than that. **In particular weather() specifies a joint probability distribution over two named random variables: cloudy and temp.** As such, it defines a probabilistic model that we can reason about using the techniques of probability theory. For example we might ask: if I observe a temperature of 70 degrees, how likely is it to be cloudy? "
   ]
  },
  {
   "cell_type": "code",
   "execution_count": null,
   "metadata": {
    "collapsed": true
   },
   "outputs": [],
   "source": []
  },
  {
   "cell_type": "code",
   "execution_count": null,
   "metadata": {
    "collapsed": true
   },
   "outputs": [],
   "source": []
  }
 ],
 "metadata": {
  "kernelspec": {
   "display_name": "tensorflow",
   "language": "python",
   "name": "tensorflow"
  },
  "language_info": {
   "codemirror_mode": {
    "name": "ipython",
    "version": 3
   },
   "file_extension": ".py",
   "mimetype": "text/x-python",
   "name": "python",
   "nbconvert_exporter": "python",
   "pygments_lexer": "ipython3",
   "version": "3.6.1"
  }
 },
 "nbformat": 4,
 "nbformat_minor": 2
}
