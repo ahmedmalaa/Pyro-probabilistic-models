{
 "cells": [
  {
   "cell_type": "markdown",
   "metadata": {},
   "source": [
    "# Introduction to Probabilistic Modeling in Pyro"
   ]
  },
  {
   "cell_type": "markdown",
   "metadata": {},
   "source": [
    "**Pyro** is a [universal probabilistic programming language (PPL)](https://pyro.ai/) in Python with a PyTorch backend. It enables flexible implementation for deep probabilistic models, which unifies the strengths of deep learning and probabilistic models. As stated in its [website](https://pyro.ai/), Pyro was designed based on the following principles:  \n",
    "\n",
    "- **Universal**: Pyro can represent *any* computable probability distribution.\n",
    "- **Scalable**: Pyro scales to *large data sets* with little overhead.\n",
    "- **Minimal**: Pyro is implemented with a small core of powerful, composable abstractions.\n",
    "- **Flexible**: Pyro aims for automation and control. "
   ]
  },
  {
   "cell_type": "markdown",
   "metadata": {},
   "source": [
    "In this tutorial, we will explore the basic building blocks of Pyro. The following tutorial is an adaptation for the documentation and the examples published in Pyro's [official website](https://pyro.ai/examples/intro_part_i.html). Before we start, we need to import both pyro and torch libraries."
   ]
  },
  {
   "cell_type": "code",
   "execution_count": 2,
   "metadata": {
    "collapsed": true
   },
   "outputs": [],
   "source": [
    "import torch\n",
    "import pyro"
   ]
  },
  {
   "cell_type": "markdown",
   "metadata": {},
   "source": [
    "## Primitive Stochastic Functions"
   ]
  },
  {
   "cell_type": "markdown",
   "metadata": {},
   "source": [
    "The basic unit of a probabilistic program is the *stochastic function*. This is a Python callable that combines two ingredients:\n",
    "\n",
    "- **Deterministic Python code** and\n",
    "- **primitive stochastic functions** that call a random number generator. \n",
    "\n",
    "More concretely, a stochastic function can be *any Python object* with a __call__() method, like a function, a method, or a PyTorch nn.Module."
   ]
  },
  {
   "cell_type": "markdown",
   "metadata": {},
   "source": [
    "Throughout the tutorials, we will often call *stochastic functions models*, since stochastic functions can be used to represent simplified or abstract descriptions of a process by which data are generated. Expressing models as stochastic functions means that models can be composed, reused, imported, and serialized just like regular Python callables."
   ]
  },
  {
   "cell_type": "code",
   "execution_count": null,
   "metadata": {
    "collapsed": true
   },
   "outputs": [],
   "source": []
  }
 ],
 "metadata": {
  "kernelspec": {
   "display_name": "tensorflow",
   "language": "python",
   "name": "tensorflow"
  },
  "language_info": {
   "codemirror_mode": {
    "name": "ipython",
    "version": 3
   },
   "file_extension": ".py",
   "mimetype": "text/x-python",
   "name": "python",
   "nbconvert_exporter": "python",
   "pygments_lexer": "ipython3",
   "version": "3.6.1"
  }
 },
 "nbformat": 4,
 "nbformat_minor": 2
}
