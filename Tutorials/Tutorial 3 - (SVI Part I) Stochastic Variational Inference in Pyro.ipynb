{
 "cells": [
  {
   "cell_type": "markdown",
   "metadata": {},
   "source": [
    "# SVI Part I: Stochastic Variational Inference in Pyro\n",
    "\n",
    "**This Tutorial is adapted from [https://pyro.ai/examples/svi_part_i.html](https://pyro.ai/examples/svi_part_i.html)*"
   ]
  },
  {
   "cell_type": "markdown",
   "metadata": {},
   "source": [
    "Pyro has been designed with particular attention paid to supporting stochastic variational inference as a general purpose inference algorithm. In this tutorial, we will see how we go about doing variational inference in Pyro. In the two subsequent notebooks, we will apply what we learned in this tutorial to develop two widely used probabilistic models:\n",
    "\n",
    "- **Variational autoencoders**.\n",
    "- **Hidden Markov models**."
   ]
  },
  {
   "cell_type": "markdown",
   "metadata": {},
   "source": [
    "## Setup"
   ]
  },
  {
   "cell_type": "markdown",
   "metadata": {},
   "source": [
    "We are going to assume we have already defined our model in Pyro. As a quick reminder, the model is given as a stochastic function model(\\*args, \\**kwargs), which, in the general case takes arguments. \n",
    "\n",
    "The different pieces of model() are encoded via the mapping:"
   ]
  },
  {
   "cell_type": "markdown",
   "metadata": {},
   "source": [
    "1. observations ⟺ **pyro.sample** with the obs argument\n",
    "\n",
    "2. latent random variables ⟺ **pyro.sample**\n",
    "\n",
    "3. parameters ⟺ **pyro.param**"
   ]
  },
  {
   "cell_type": "markdown",
   "metadata": {},
   "source": [
    "Now let's establish some notation. The model has *observations* $\\boldsymbol{x}$ and *latent random variables* $\\boldsymbol{z}$ as well as parameters $\\theta$. It has the joint probability density:\n",
    "\n",
    "$p_{\\theta}(\\boldsymbol{x}, \\boldsymbol{z}) = p_{\\theta}(\\boldsymbol{x}\\,|\\,\\boldsymbol{z})\\cdot p_{\\theta}(\\boldsymbol{z})$"
   ]
  },
  {
   "cell_type": "markdown",
   "metadata": {},
   "source": [
    "We assume that the various probability distributions that make up $p_{\\theta}(\\boldsymbol{x}, \\boldsymbol{z})$ have the following properties:\n",
    "\n",
    "1. We can sample from each distribution.\n",
    "2. We can compute the pointwise log pdf of each distribution.\n",
    "3. Each distribution is differentiable w.r.t. the parameters $\\theta$."
   ]
  },
  {
   "cell_type": "code",
   "execution_count": null,
   "metadata": {
    "collapsed": true
   },
   "outputs": [],
   "source": []
  },
  {
   "cell_type": "code",
   "execution_count": null,
   "metadata": {
    "collapsed": true
   },
   "outputs": [],
   "source": []
  },
  {
   "cell_type": "code",
   "execution_count": null,
   "metadata": {
    "collapsed": true
   },
   "outputs": [],
   "source": []
  }
 ],
 "metadata": {
  "kernelspec": {
   "display_name": "tensorflow",
   "language": "python",
   "name": "tensorflow"
  },
  "language_info": {
   "codemirror_mode": {
    "name": "ipython",
    "version": 3
   },
   "file_extension": ".py",
   "mimetype": "text/x-python",
   "name": "python",
   "nbconvert_exporter": "python",
   "pygments_lexer": "ipython3",
   "version": "3.6.1"
  }
 },
 "nbformat": 4,
 "nbformat_minor": 2
}
